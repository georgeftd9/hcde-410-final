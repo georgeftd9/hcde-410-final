{
 "cells": [
  {
   "cell_type": "markdown",
   "metadata": {},
   "source": [
    "# Is Stroke Common To People This Age?"
   ]
  },
  {
   "cell_type": "markdown",
   "metadata": {},
   "source": [
    "## Motivation and Problem Statement:\n",
    "I did this research mainly because I wanted to explore the social factors that cause stroke. Many uncomfortable symptoms that occur in humans, except for congenital disease factors, are caused by external interference. For example, fever may be due to wearing too little in the cold winter. But besides being sick, headaches may also be caused by high work pressure, getting older, or mental illness caused by unsatisfactory life (marital discord). According to the World Health Organization (WHO) stroke is the 2nd leading cause of death globally, responsible for approximately 11% of total deaths. Perhaps through the exploration of social factors, non-pharmacological treatments can be found.\n",
    "\n",
    "From a human-centered perspective, the concept of three-point poisoning of drugs has been deeply rooted in the hearts of the people. Why not use non-drugs to solve physical discomfort symptoms? At the same time, perhaps we can help people around us to get rid of the trouble of stroke from the conclusions of the research. I hope I can learn how to handle data correctly from this research and have a better understanding of the current social situation."
   ]
  },
  {
   "cell_type": "markdown",
   "metadata": {},
   "source": [
    "## Data Selected For Analysis"
   ]
  },
  {
   "cell_type": "markdown",
   "metadata": {},
   "source": [
    "This dataset contains 5110 observations with 12 attributes.\n",
    "Attributes are"
   ]
  },
  {
   "cell_type": "markdown",
   "metadata": {},
   "source": [
    "**id**: unique id indentifier\n",
    "\n",
    "**gender**: Male, Female and Other\n",
    "\n",
    "**age**: age of the observation\n",
    "\n",
    "**hypertension**:  0 stands for if the patient doesn't have hypertension.\n",
    "                   1 stands for if the patient does have hypertension \n",
    "                   \n",
    "**heart_disease**: 0 if the patient doesn't have any heart diseases.\n",
    "                   1 if the patient has a heart disease\n",
    "                   \n",
    "**ever_married**: No and Yes\n",
    "\n",
    "**work_type**: Children, government job, never worked, private or self-employed\n",
    "\n",
    "**residence_type**: Rural or Urban\n",
    "\n",
    "**avg_glucose_level**: average glucose level in blood\n",
    "\n",
    "**bmi**: body mass idex\n",
    "\n",
    "**smoking_status**: formerly smoked, never smoked, smokes or unknown\n",
    "\n",
    "**stroke**: 0 stands for if patient had no stroke.\n",
    "            1 stands for if patient had stoke"
   ]
  },
  {
   "cell_type": "markdown",
   "metadata": {},
   "source": [
    "In addition to the physical factors that may cause stroke, such as high blood pressure and heart disease mentioned in this dataset, it also includes some social factors such as single status, job type, living location, and some personal information such as BMI value and whether smokes. This dataset fits the original intention of my motivation. Even though the total amount of this data table is only more than 5000, but the data covers a wide range, I believe this dataset can be used as the basis of thick data."
   ]
  },
  {
   "cell_type": "markdown",
   "metadata": {},
   "source": [
    "***Link to Dataset***:\n",
    "<p>https://www.kaggle.com/fedesoriano/stroke-prediction-dataset<p>\n",
    "<p>https://www.kaggle.com/fedesoriano/hepatitis-c-dataset<p>\n",
    "License: Open Data Commons Open Database License (ODbL) v1.0.\n",
    "    \n",
    "Open Data Commons is not a law firm and does not provide legal services of any kind. Open Data Commons has no formal relationship with you. Your receipt of this document does not create any kind of agent-client relationship. Please seek the advice of a suitably qualified legal professional licensed to practice in your jurisdiction before using this document. No warranties and disclaimer of any damages. This information is provided ‘as is‘, and this site makes no warranties on the information provided. Any damages resulting from its use are disclaimed."
   ]
  },
  {
   "cell_type": "markdown",
   "metadata": {},
   "source": [
    "## Unknowns and Dependencise"
   ]
  },
  {
   "cell_type": "markdown",
   "metadata": {},
   "source": [
    "My improper/wrong way of handling the data may lead to unobjective conclusions. A small amount of data can only confirm the legitimacy of my conclusion from the side, and cannot prove that my conclusion must be in line with the current situation."
   ]
  },
  {
   "cell_type": "markdown",
   "metadata": {},
   "source": [
    "## Research Question (or hypotheses)"
   ]
  },
  {
   "cell_type": "markdown",
   "metadata": {},
   "source": [
    "Do people who are married tend to get striked by stroke？How about other social impacts?"
   ]
  },
  {
   "cell_type": "markdown",
   "metadata": {},
   "source": [
    "## Background and/or Related Work"
   ]
  },
  {
   "cell_type": "markdown",
   "metadata": {},
   "source": [
    "Marriage is a very important and meaningful decision in life. Both men and women, it changes the social status of people from independence to a group that needs to bear certain social responsibilities. But marriage can be both a source of happiness and a motor of anxiety and stress.\n",
    "\n",
    "According to Heidi Moawad's \"Causes and Risk Factors of Stroke\" published on April 21, 2021, most of the causes of stroke are related to physiological functions. They are basically divided into two categories, one caused by a blockage of one of the cerebral blood vessels and the other is caused by a blood vessel repture and characterized by bleeding in the brain. But Moawad also proposed on March 28, Marriage also increases the probability of a stroke attack. He pointed out that marital stability affects not only the couple's stroke risk but also the stroke risk of their adult children years down the road."
   ]
  },
  {
   "cell_type": "markdown",
   "metadata": {},
   "source": [
    "#### Stroke Risk in an Unhappy Marriage"
   ]
  },
  {
   "cell_type": "markdown",
   "metadata": {},
   "source": [
    "While divorce affects stroke incidence differently for men than it does women, an unhappy marriage also affects men and women in different ways. An investigation from The University of Colorado at Boulder reported that an unhappy marriage, identified as poor marital adjustment, resulted in a higher rate of development of stroke risk factors for women, but not for men.\n",
    "\n",
    "And there are many potential explanations for this finding, including differences in the ways that men and women respond to surveys or differences in the way they view marital satisfaction."
   ]
  },
  {
   "cell_type": "markdown",
   "metadata": {},
   "source": [
    "#### Stroke Risk in Children of Divorce"
   ]
  },
  {
   "cell_type": "markdown",
   "metadata": {},
   "source": [
    "Surprisingly, divorce has been found to have a long-term impact on stroke risk for more than just the couple. A study published in the International Journal of Stroke concluded that parental divorce during childhood increases the risk of stroke for men in adulthood by threefold.\n",
    "\n",
    "Interestingly, there was no association of parental divorce during childhood on stroke risk for adult women. Given that divorcing parents do not typically take the decision to separate lightly, negative descriptions of children’s long-term outcomes may lead to increased feelings of guilt and blame. However, it is important to note that the study does not point to an exact cause or physiology behind the increase in stroke rates among the adult males who experienced childhood parental divorce."
   ]
  },
  {
   "cell_type": "markdown",
   "metadata": {},
   "source": [
    "#### Stroke and Its Effect on Marriage"
   ]
  },
  {
   "cell_type": "markdown",
   "metadata": {},
   "source": [
    "For those couples who stay together, they go through the experience of one spouse's stroke together.\n",
    "\n",
    "Being married has been shown to improve stroke survival for those who do have a stroke. This finding was true for men and women, and it turned out that those who were married had a higher chance of survival than those who had never been married and those who had been divorced.\n",
    "\n",
    "This could be explained by the fact that a stroke survivor who has a spouse also has a number of practical advantages. Getting to the hospital promptly has been shown to increase survival after a stroke because life-saving treatment can be administered. This often depends on whether there is a companion available to call for emergency help when stroke symptoms begin. Post-stroke recovery at home may involve a number of prescriptions, medical visits, and therapy appointments, all of which can go more smoothly if there is an involved spouse who can remind the stroke survivor to take prescribed medication and to follow through with medical appointments.\n",
    "\n",
    "In addition to the practical advantages, there may also be some subtle advantages to having a spouse, such as emotional support. Some studies show that a peaceful emotional and spiritual life can help in stroke recovery.\n",
    "\n",
    "A stroke can produce a number of neurological changes, including alterations in the stroke survivor's ability to understand other people’s feelings and facial expressions. The lack of appropriate social and emotional responses from the stroke survivor can be very difficult for the stroke survivor's spouse and may decrease marital satisfaction for the healthier spouse, who is usually the primary caregiver, after a stroke."
   ]
  },
  {
   "cell_type": "markdown",
   "metadata": {},
   "source": [
    "### Source:"
   ]
  },
  {
   "cell_type": "markdown",
   "metadata": {},
   "source": [
    "<p>https://www.verywellhealth.com/stroke-causes-4014093<p>"
   ]
  },
  {
   "cell_type": "markdown",
   "metadata": {},
   "source": [
    "Therefore, according to the current research, the stroke factors brought about by marriage are basically potential factors that cause physiological problems. However, stress and anxiety are the key. So I want to use this research to prove that other social factors that cause stress and anxiety, such as wages, can also trigger strokes."
   ]
  },
  {
   "cell_type": "markdown",
   "metadata": {},
   "source": [
    "## Methodology"
   ]
  },
  {
   "cell_type": "markdown",
   "metadata": {},
   "source": [
    "In this research, I will mainly use Data Visualization and t test to verify my research hypothesis. This is mainly because of my problem and that the dataset I collected is not very complicated. The simplest and most intuitive way to display the information of the dataset is data visualization. Data visualizations are very effective at communicating numbers, but not for doing further analysis on those numbers. Business Intelligence is More than Painting a Picture on Top of Data. Although I am not sure which data analysis method I will eventually use, I will definitely return to the most basic statistics. That is, by calculating t-test to prove whether there is enough evidence to support my H0 or deny H0."
   ]
  }
 ],
 "metadata": {
  "kernelspec": {
   "display_name": "Python 3",
   "language": "python",
   "name": "python3"
  },
  "language_info": {
   "codemirror_mode": {
    "name": "ipython",
    "version": 3
   },
   "file_extension": ".py",
   "mimetype": "text/x-python",
   "name": "python",
   "nbconvert_exporter": "python",
   "pygments_lexer": "ipython3",
   "version": "3.8.8"
  }
 },
 "nbformat": 4,
 "nbformat_minor": 4
}
