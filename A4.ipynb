{
 "cells": [
  {
   "cell_type": "markdown",
   "metadata": {},
   "source": [
    "# Is Stroke Common To People This Age?"
   ]
  },
  {
   "cell_type": "markdown",
   "metadata": {},
   "source": [
    "## Motivation and Problem Statement:\n",
    "I did this research mainly because I wanted to explore the social factors that cause stroke. Many uncomfortable symptoms that occur in humans, except for congenital disease factors, are caused by external interference. For example, fever may be due to wearing too little in the cold winter. But besides being sick, headaches may also be caused by high work pressure, getting older, or mental illness caused by unsatisfactory life (marital discord). According to the World Health Organization (WHO) stroke is the 2nd leading cause of death globally, responsible for approximately 11% of total deaths. Perhaps through the exploration of social factors, non-pharmacological treatments can be found.\n",
    "\n",
    "From a human-centered perspective, the concept of three-point poisoning of drugs has been deeply rooted in the hearts of the people. Why not use non-drugs to solve physical discomfort symptoms? At the same time, perhaps we can help people around us to get rid of the trouble of stroke from the conclusions of the research. I hope I can learn how to handle data correctly from this research and have a better understanding of the current social situation."
   ]
  },
  {
   "cell_type": "markdown",
   "metadata": {},
   "source": [
    "## Data Selected For Analysis"
   ]
  },
  {
   "cell_type": "markdown",
   "metadata": {},
   "source": [
    "This dataset contains 5110 observations with 12 attributes.\n",
    "Attributes are"
   ]
  },
  {
   "cell_type": "markdown",
   "metadata": {},
   "source": [
    "**id**: unique id indentifier\n",
    "\n",
    "**gender**: Male, Female and Other\n",
    "\n",
    "**age**: age of the observation\n",
    "\n",
    "**hypertension**:  0 stands for if the patient doesn't have hypertension.\n",
    "                   1 stands for if the patient does have hypertension \n",
    "                   \n",
    "**heart_disease**: 0 if the patient doesn't have any heart diseases.\n",
    "                   1 if the patient has a heart disease\n",
    "                   \n",
    "**ever_married**: No and Yes\n",
    "\n",
    "**work_type**: Children, government job, never worked, private or self-employed\n",
    "\n",
    "**residence_type**: Rural or Urban\n",
    "\n",
    "**avg_glucose_level**: average glucose level in blood\n",
    "\n",
    "**bmi**: body mass idex\n",
    "\n",
    "**smoking_status**: formerly smoked, never smoked, smokes or unknown\n",
    "\n",
    "**stroke**: 0 stands for if patient had no stroke.\n",
    "            1 stands for if patient had stoke"
   ]
  },
  {
   "cell_type": "markdown",
   "metadata": {},
   "source": [
    "In addition to the physical factors that may cause stroke, such as high blood pressure and heart disease mentioned in this dataset, it also includes some social factors such as single status, job type, living location, and some personal information such as BMI value and whether smokes. This dataset fits the original intention of my motivation. Even though the total amount of this data table is only more than 5000, but the data covers a wide range, I believe this dataset can be used as the basis of thick data."
   ]
  },
  {
   "cell_type": "markdown",
   "metadata": {},
   "source": [
    "***Link to Dataset***:\n",
    "<p>https://www.kaggle.com/fedesoriano/stroke-prediction-dataset<p>\n",
    "<p>https://www.kaggle.com/fedesoriano/hepatitis-c-dataset<p>\n",
    "License: Open Data Commons Open Database License (ODbL) v1.0.\n",
    "    \n",
    "Open Data Commons is not a law firm and does not provide legal services of any kind. Open Data Commons has no formal relationship with you. Your receipt of this document does not create any kind of agent-client relationship. Please seek the advice of a suitably qualified legal professional licensed to practice in your jurisdiction before using this document. No warranties and disclaimer of any damages. This information is provided ‘as is‘, and this site makes no warranties on the information provided. Any damages resulting from its use are disclaimed."
   ]
  },
  {
   "cell_type": "markdown",
   "metadata": {},
   "source": [
    "## Unknowns and Dependencise"
   ]
  },
  {
   "cell_type": "markdown",
   "metadata": {},
   "source": [
    "My improper/wrong way of handling the data may lead to unobjective conclusions. A small amount of data can only confirm the legitimacy of my conclusion from the side, and cannot prove that my conclusion must be in line with the current situation."
   ]
  }
 ],
 "metadata": {
  "kernelspec": {
   "display_name": "Python 3",
   "language": "python",
   "name": "python3"
  },
  "language_info": {
   "codemirror_mode": {
    "name": "ipython",
    "version": 3
   },
   "file_extension": ".py",
   "mimetype": "text/x-python",
   "name": "python",
   "nbconvert_exporter": "python",
   "pygments_lexer": "ipython3",
   "version": "3.8.8"
  }
 },
 "nbformat": 4,
 "nbformat_minor": 4
}
